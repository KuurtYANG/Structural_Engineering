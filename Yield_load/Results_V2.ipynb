{
 "cells": [
  {
   "cell_type": "code",
   "execution_count": 4,
   "metadata": {
    "ExecuteTime": {
     "end_time": "2020-02-27T21:39:21.566509Z",
     "start_time": "2020-02-27T21:39:07.096844Z"
    },
    "code_folding": [
     0
    ]
   },
   "outputs": [],
   "source": [
    "# Data Processing\n",
    "import numpy as np\n",
    "from numpy import exp\n",
    "import pandas as pd\n",
    "import scipy as sp\n",
    "import scipy.optimize\n",
    "import os\n",
    "\n",
    "# Visualization\n",
    "import matplotlib.pyplot as plt\n",
    "%matplotlib inline \n",
    "\n",
    "import warnings\n",
    "warnings.filterwarnings('ignore')"
   ]
  },
  {
   "cell_type": "markdown",
   "metadata": {},
   "source": [
    "# FUNCTIONS"
   ]
  },
  {
   "cell_type": "code",
   "execution_count": 5,
   "metadata": {
    "ExecuteTime": {
     "end_time": "2020-02-27T21:39:21.592397Z",
     "start_time": "2020-02-27T21:39:21.584432Z"
    },
    "code_folding": [
     3
    ]
   },
   "outputs": [],
   "source": [
    "\"\"\"\n",
    "get a name list including all the job titles\n",
    "\"\"\"\n",
    "def get_jobnames(path=\"d:/\", rule='.xls'):\n",
    "    job_list = []\n",
    "    path = os.path.abspath(path)\n",
    "    for fp, dirs, fs in os.walk(path): # os.walk is to find all the table of contents\n",
    "        for f in fs:\n",
    "            if f.endswith(rule):\n",
    "                job_list.append(f.rpartition('.')[0]) # rpartition is to remove '.xls'\n",
    "    return job_list"
   ]
  },
  {
   "cell_type": "code",
   "execution_count": 6,
   "metadata": {
    "ExecuteTime": {
     "end_time": "2020-02-27T21:39:21.611310Z",
     "start_time": "2020-02-27T21:39:21.606334Z"
    },
    "code_folding": [
     3
    ]
   },
   "outputs": [],
   "source": [
    "\"\"\"\n",
    "get the dataframe according to excel results\n",
    "\"\"\"\n",
    "def get_df(job_names, path):\n",
    "    df_data = []\n",
    "    for subjob in job_names:\n",
    "        df = pd.read_excel(path + subjob + \".xls\") # can also use header=None\n",
    "        df_data.append(df)\n",
    "    return pd.concat(df_data, axis='columns')"
   ]
  },
  {
   "cell_type": "code",
   "execution_count": 23,
   "metadata": {
    "ExecuteTime": {
     "end_time": "2020-02-27T23:13:39.721677Z",
     "start_time": "2020-02-27T23:13:39.704752Z"
    },
    "code_folding": []
   },
   "outputs": [],
   "source": [
    "\"\"\"\n",
    "df_data is the data of all dataframes; df_list is a list including all \n",
    "the dataframe names; num_list is the data you wanna plot out\n",
    "\"\"\"\n",
    "def plot_curves(df_data, df_list, num_list):\n",
    "    fig = plt.figure(figsize=[10, 6])\n",
    "    ax = plt.axes()\n",
    "    for i in range(len(num_list)):\n",
    "        column_num = df_data.columns.get_loc(df_list[num_list[i]])\n",
    "        # df_list[num_list[i]] is the name of job_names[i]\n",
    "        # get the column number by get_loc\n",
    "        df_sub = df_data.iloc[:,[column_num, column_num+1]].dropna()\n",
    "        ax.plot(df_sub.iloc[1:,0], df_sub.iloc[1:,1], '-', linewidth=2, \n",
    "                label=df_list[num_list[i]])\n",
    "    ax.set(xlabel=df_sub.iloc[0,0], \n",
    "           ylabel=df_sub.iloc[0,1])\n",
    "    ax.legend()"
   ]
  },
  {
   "cell_type": "code",
   "execution_count": 8,
   "metadata": {
    "ExecuteTime": {
     "end_time": "2020-02-27T21:39:21.714852Z",
     "start_time": "2020-02-27T21:39:21.658102Z"
    },
    "code_folding": [],
    "scrolled": true
   },
   "outputs": [],
   "source": [
    "\"\"\"\n",
    "function \"eq_energy\" applys the equivalent elasto-plastic energy method\n",
    "\"\"\"\n",
    "def eq_energy(df_data, num_list):\n",
    "    result_list = []\n",
    "    for df_num in num_list:\n",
    "\n",
    "        x = np.array(df_data.iloc[1:,df_num*2], dtype=float) # start from 0\n",
    "        y = np.array(df_data.iloc[1:,df_num*2+1], dtype=float)\n",
    "\n",
    "        for i0, y0 in enumerate(y):\n",
    "            if y0 > 0.70*max(y): # find the end point of elastic range\n",
    "                break    \n",
    "        x0,y0=x[i0],y[i0]\n",
    "        def linear(x, k1):\n",
    "            return k1*x  \n",
    "        pro, err = sp.optimize.curve_fit(linear, x[:i0+1], y[:i0+1]) # include x[i]\n",
    "        pro = pro[0]\n",
    "        \n",
    "        for k in range(1000, 10000):\n",
    "            k2 = pro*(10000-k)/10000 # reduce the crossing line gradually\n",
    "            min_dis=1000000\n",
    "            for j, x1 in enumerate(x[i0+1:]): # not include x[i0], i0 is the point beyong elastic range\n",
    "                y1 = y[i0+1+j]\n",
    "                dis = abs(k2*x1-y1)/np.sqrt(k2**2+1) # the distance between point to line\n",
    "                min_dis = min(min_dis, dis)\n",
    "                if min_dis<dis:\n",
    "                    break\n",
    "\n",
    "            # to check the previous point's position with min_dis\n",
    "            # predefine the end point of elastic range\n",
    "            if y[i0+j] >= k2*x[i0+j]: \n",
    "                x2, y2, x3, y3 = x[i0+j], y[i0+j], x[i0+1+j], y[i0+1+j]\n",
    "                m = i0+j\n",
    "            else:\n",
    "                x2, y2, x3, y3 = x[i0+j-1], y[i0+j-1], x[i0+j], y[i0+j]\n",
    "                m = i0+j-1\n",
    "            a0, b0, c0 = y2-y3, x3-x2, x2*y3-x3*y2\n",
    "            D = -a0-k2*b0\n",
    "            xc, yc = c0/D, k2*c0/D # crossing point between crossing line and curve\n",
    "\n",
    "            x_n = np.insert(x, m+1, xc)\n",
    "            y_n = np.insert(y, m+1, yc)\n",
    "\n",
    "            line_area1 = xc*yc/2\n",
    "            num_x = np.where(y_n==max(y_n))[0][0]\n",
    "            line_area2 = max(y_n)*max(y_n)/(2*k2)-line_area1+max(y_n)*(x_n[num_x]-max(y_n)/k2)\n",
    "            \n",
    "            curve_area1=curve_area2=0\n",
    "            for i in range(1, m+2): # the end_num will select to m+1, the number of crossing point\n",
    "                curve_area1 += (y_n[i]+y_n[i-1])*(x_n[i]-x_n[i-1])/2\n",
    "            for i in range(m+2, num_x):\n",
    "                curve_area2 += (y_n[i]+y_n[i-1])*(x_n[i]-x_n[i-1])/2\n",
    "                \n",
    "            area_ela = curve_area1-line_area1\n",
    "            area_pla = line_area2-curve_area2\n",
    "            if area_ela > area_pla:\n",
    "                break\n",
    "        result_list.append([pro, k2, yc, max(y)])\n",
    "            \n",
    "    return result_list"
   ]
  },
  {
   "cell_type": "code",
   "execution_count": 9,
   "metadata": {
    "ExecuteTime": {
     "end_time": "2020-02-27T21:39:21.734764Z",
     "start_time": "2020-02-27T21:39:21.724807Z"
    },
    "code_folding": [
     0
    ]
   },
   "outputs": [],
   "source": [
    "\"\"\"\n",
    "create dataframe table with the application of function \"eq_energy\"\n",
    "\"\"\"\n",
    "def df_table(df_data, df_list, num_list):\n",
    "    index = pd.MultiIndex.from_product(\n",
    "        [[df_data], [eval(df_list)[num] for num in num_list]], \n",
    "        names=['specimen','load_type'])\n",
    "    columns = ['stiffness', 'k2', 'yield_load','ultimate_load']\n",
    "    data = np.array(eq_energy(eval(df_data), num_list))\n",
    "    return pd.DataFrame(data, index=index, columns=columns)"
   ]
  },
  {
   "cell_type": "code",
   "execution_count": 7,
   "metadata": {
    "ExecuteTime": {
     "end_time": "2020-02-18T01:33:10.852353Z",
     "start_time": "2020-02-18T01:33:10.848407Z"
    },
    "code_folding": [
     0
    ]
   },
   "outputs": [],
   "source": [
    "# x = np.array([1, 2, 3, 4, 5, 6, 7, 8, 9, 10 ,11, 12, 13, 14, 15], dtype=float) \n",
    "# y = np.array([5, 7, 9, 11, 13, 15, 28.92, 42.81, 56.7, 70.59, 84.47, 98.36, 112.25, 126.14, 140.03]) \n",
    "\n",
    "# def piecewise_linear(x, x0, y0, k1, k2): \n",
    "#     return np.piecewise(x, [x < x0], \n",
    "#                         [lambda x:k1*x + y0-k1*x0, \n",
    "#                          lambda x:k2*x + y0-k2*x0])    \n",
    "\n",
    "# p , e = sp.optimize.curve_fit(piecewise_linear, x, y) \n",
    "# xd = np.linspace(0, 15, 100) \n",
    "# plt.plot(x, y, \"o\") \n",
    "# plt.plot(xd, piecewise_linear(xd, *p)) "
   ]
  },
  {
   "cell_type": "markdown",
   "metadata": {},
   "source": [
    "# SUPA100"
   ]
  },
  {
   "cell_type": "markdown",
   "metadata": {},
   "source": [
    "## SP100-3W-CB"
   ]
  },
  {
   "cell_type": "code",
   "execution_count": 114,
   "metadata": {
    "ExecuteTime": {
     "end_time": "2020-02-18T03:54:29.336503Z",
     "start_time": "2020-02-18T03:54:29.314559Z"
    }
   },
   "outputs": [],
   "source": [
    "path = \"d:/OneDrive/WorkFile/FEM/SP100/SP100-3W-CB/Results/5mm/\"\n",
    "job_names = get_jobnames(path)\n",
    "SP100_3W_CB = get_df(job_names, path)"
   ]
  },
  {
   "cell_type": "code",
   "execution_count": 115,
   "metadata": {
    "ExecuteTime": {
     "end_time": "2020-02-18T03:54:29.972824Z",
     "start_time": "2020-02-18T03:54:29.666250Z"
    }
   },
   "outputs": [
    {
     "data": {
      "text/html": [
       "<div>\n",
       "<style scoped>\n",
       "    .dataframe tbody tr th:only-of-type {\n",
       "        vertical-align: middle;\n",
       "    }\n",
       "\n",
       "    .dataframe tbody tr th {\n",
       "        vertical-align: top;\n",
       "    }\n",
       "\n",
       "    .dataframe thead th {\n",
       "        text-align: right;\n",
       "    }\n",
       "</style>\n",
       "<table border=\"1\" class=\"dataframe\">\n",
       "  <thead>\n",
       "    <tr style=\"text-align: right;\">\n",
       "      <th></th>\n",
       "      <th></th>\n",
       "      <th>stiffness</th>\n",
       "      <th>k2</th>\n",
       "      <th>yield_load</th>\n",
       "      <th>ultimate_load</th>\n",
       "    </tr>\n",
       "    <tr>\n",
       "      <th>specimen</th>\n",
       "      <th>load_type</th>\n",
       "      <th></th>\n",
       "      <th></th>\n",
       "      <th></th>\n",
       "      <th></th>\n",
       "    </tr>\n",
       "  </thead>\n",
       "  <tbody>\n",
       "    <tr>\n",
       "      <td rowspan=\"3\" valign=\"top\">SP100_3W_CB</td>\n",
       "      <td>01_moment_negative_x</td>\n",
       "      <td>642.049694</td>\n",
       "      <td>577.844725</td>\n",
       "      <td>8.067387</td>\n",
       "      <td>8.764951</td>\n",
       "    </tr>\n",
       "    <tr>\n",
       "      <td>02_moment_negative_y</td>\n",
       "      <td>969.448706</td>\n",
       "      <td>872.503836</td>\n",
       "      <td>11.779268</td>\n",
       "      <td>11.882813</td>\n",
       "    </tr>\n",
       "    <tr>\n",
       "      <td>03_shear_y</td>\n",
       "      <td>62.534722</td>\n",
       "      <td>47.795288</td>\n",
       "      <td>77.000982</td>\n",
       "      <td>95.131258</td>\n",
       "    </tr>\n",
       "  </tbody>\n",
       "</table>\n",
       "</div>"
      ],
      "text/plain": [
       "                                   stiffness          k2  yield_load  \\\n",
       "specimen    load_type                                                  \n",
       "SP100_3W_CB 01_moment_negative_x  642.049694  577.844725    8.067387   \n",
       "            02_moment_negative_y  969.448706  872.503836   11.779268   \n",
       "            03_shear_y             62.534722   47.795288   77.000982   \n",
       "\n",
       "                                  ultimate_load  \n",
       "specimen    load_type                            \n",
       "SP100_3W_CB 01_moment_negative_x       8.764951  \n",
       "            02_moment_negative_y      11.882813  \n",
       "            03_shear_y                95.131258  "
      ]
     },
     "execution_count": 115,
     "metadata": {},
     "output_type": "execute_result"
    }
   ],
   "source": [
    "SP100_3W_CB_df = df_table('SP100_3W_CB', 'job_names', [0,1,2])\n",
    "SP100_3W_CB_df"
   ]
  },
  {
   "cell_type": "code",
   "execution_count": 117,
   "metadata": {
    "ExecuteTime": {
     "end_time": "2020-02-18T03:55:13.977237Z",
     "start_time": "2020-02-18T03:55:13.780104Z"
    },
    "scrolled": true
   },
   "outputs": [
    {
     "data": {
      "image/png": "[encoded data removed]",
      "text/plain": [
       "<Figure size 619.2x345.6 with 1 Axes>"
      ]
     },
     "metadata": {
      "needs_background": "light"
     },
     "output_type": "display_data"
    }
   ],
   "source": [
    "plot_curves(SP100_3W_CB, job_names, [0])"
   ]
  },
  {
   "cell_type": "markdown",
   "metadata": {},
   "source": [
    "# SUPA80"
   ]
  },
  {
   "cell_type": "markdown",
   "metadata": {},
   "source": [
    "## SP80-3W-CB"
   ]
  },
  {
   "cell_type": "code",
   "execution_count": 15,
   "metadata": {
    "ExecuteTime": {
     "end_time": "2020-02-27T21:42:03.330672Z",
     "start_time": "2020-02-27T21:42:03.307455Z"
    }
   },
   "outputs": [],
   "source": [
    "path = \"d:/OneDrive/WorkFile/FEM/SP80/SP80-3W-CB/Results/5mm/\"\n",
    "job_names = get_jobnames(path)\n",
    "SP80_3W_CB = get_df(job_names, path)"
   ]
  },
  {
   "cell_type": "code",
   "execution_count": 16,
   "metadata": {
    "ExecuteTime": {
     "end_time": "2020-02-27T21:42:05.721687Z",
     "start_time": "2020-02-27T21:42:04.650361Z"
    }
   },
   "outputs": [
    {
     "data": {
      "text/html": [
       "<div>\n",
       "<style scoped>\n",
       "    .dataframe tbody tr th:only-of-type {\n",
       "        vertical-align: middle;\n",
       "    }\n",
       "\n",
       "    .dataframe tbody tr th {\n",
       "        vertical-align: top;\n",
       "    }\n",
       "\n",
       "    .dataframe thead th {\n",
       "        text-align: right;\n",
       "    }\n",
       "</style>\n",
       "<table border=\"1\" class=\"dataframe\">\n",
       "  <thead>\n",
       "    <tr style=\"text-align: right;\">\n",
       "      <th></th>\n",
       "      <th></th>\n",
       "      <th>stiffness</th>\n",
       "      <th>k2</th>\n",
       "      <th>yield_load</th>\n",
       "      <th>ultimate_load</th>\n",
       "    </tr>\n",
       "    <tr>\n",
       "      <th>specimen</th>\n",
       "      <th>load_type</th>\n",
       "      <th></th>\n",
       "      <th></th>\n",
       "      <th></th>\n",
       "      <th></th>\n",
       "    </tr>\n",
       "  </thead>\n",
       "  <tbody>\n",
       "    <tr>\n",
       "      <td rowspan=\"3\" valign=\"top\">SP80_3W_CB</td>\n",
       "      <td>02_moment_negative_x</td>\n",
       "      <td>249.671180</td>\n",
       "      <td>209.798693</td>\n",
       "      <td>4.265788</td>\n",
       "      <td>4.594620</td>\n",
       "    </tr>\n",
       "    <tr>\n",
       "      <td>04_moment_negative_y</td>\n",
       "      <td>360.713517</td>\n",
       "      <td>320.998959</td>\n",
       "      <td>5.901466</td>\n",
       "      <td>6.068280</td>\n",
       "    </tr>\n",
       "    <tr>\n",
       "      <td>06_shear_y</td>\n",
       "      <td>34.465934</td>\n",
       "      <td>18.070489</td>\n",
       "      <td>48.498148</td>\n",
       "      <td>59.870539</td>\n",
       "    </tr>\n",
       "  </tbody>\n",
       "</table>\n",
       "</div>"
      ],
      "text/plain": [
       "                                  stiffness          k2  yield_load  \\\n",
       "specimen   load_type                                                  \n",
       "SP80_3W_CB 02_moment_negative_x  249.671180  209.798693    4.265788   \n",
       "           04_moment_negative_y  360.713517  320.998959    5.901466   \n",
       "           06_shear_y             34.465934   18.070489   48.498148   \n",
       "\n",
       "                                 ultimate_load  \n",
       "specimen   load_type                            \n",
       "SP80_3W_CB 02_moment_negative_x       4.594620  \n",
       "           04_moment_negative_y       6.068280  \n",
       "           06_shear_y                59.870539  "
      ]
     },
     "execution_count": 16,
     "metadata": {},
     "output_type": "execute_result"
    }
   ],
   "source": [
    "SP80_3W_CB_df = df_table('SP80_3W_CB', 'job_names', [0,1,2])\n",
    "SP80_3W_CB_df"
   ]
  },
  {
   "cell_type": "code",
   "execution_count": 17,
   "metadata": {
    "ExecuteTime": {
     "end_time": "2020-02-27T21:42:06.625224Z",
     "start_time": "2020-02-27T21:42:06.268795Z"
    },
    "scrolled": false
   },
   "outputs": [
    {
     "data": {
      "image/png": "[encoded data removed]",
      "text/plain": [
       "<Figure size 619.2x345.6 with 1 Axes>"
      ]
     },
     "metadata": {
      "needs_background": "light"
     },
     "output_type": "display_data"
    }
   ],
   "source": [
    "plot_curves(SP80_3W_CB, job_names, [1])"
   ]
  },
  {
   "cell_type": "code",
   "execution_count": 119,
   "metadata": {
    "ExecuteTime": {
     "end_time": "2020-02-18T03:57:22.748552Z",
     "start_time": "2020-02-18T03:57:22.730631Z"
    },
    "scrolled": true
   },
   "outputs": [
    {
     "data": {
      "text/html": [
       "<div>\n",
       "<style scoped>\n",
       "    .dataframe tbody tr th:only-of-type {\n",
       "        vertical-align: middle;\n",
       "    }\n",
       "\n",
       "    .dataframe tbody tr th {\n",
       "        vertical-align: top;\n",
       "    }\n",
       "\n",
       "    .dataframe thead th {\n",
       "        text-align: right;\n",
       "    }\n",
       "</style>\n",
       "<table border=\"1\" class=\"dataframe\">\n",
       "  <thead>\n",
       "    <tr style=\"text-align: right;\">\n",
       "      <th></th>\n",
       "      <th></th>\n",
       "      <th>stiffness</th>\n",
       "      <th>k2</th>\n",
       "      <th>yield_load</th>\n",
       "      <th>ultimate_load</th>\n",
       "    </tr>\n",
       "    <tr>\n",
       "      <th>specimen</th>\n",
       "      <th>load_type</th>\n",
       "      <th></th>\n",
       "      <th></th>\n",
       "      <th></th>\n",
       "      <th></th>\n",
       "    </tr>\n",
       "  </thead>\n",
       "  <tbody>\n",
       "    <tr>\n",
       "      <td rowspan=\"3\" valign=\"top\">SP100_3W_CB</td>\n",
       "      <td>01_moment_negative_x</td>\n",
       "      <td>642.049694</td>\n",
       "      <td>577.844725</td>\n",
       "      <td>8.067387</td>\n",
       "      <td>8.764951</td>\n",
       "    </tr>\n",
       "    <tr>\n",
       "      <td>02_moment_negative_y</td>\n",
       "      <td>969.448706</td>\n",
       "      <td>872.503836</td>\n",
       "      <td>11.779268</td>\n",
       "      <td>11.882813</td>\n",
       "    </tr>\n",
       "    <tr>\n",
       "      <td>03_shear_y</td>\n",
       "      <td>62.534722</td>\n",
       "      <td>47.795288</td>\n",
       "      <td>77.000982</td>\n",
       "      <td>95.131258</td>\n",
       "    </tr>\n",
       "    <tr>\n",
       "      <td rowspan=\"3\" valign=\"top\">SP80_3W_CB</td>\n",
       "      <td>02_moment_negative_x</td>\n",
       "      <td>249.671180</td>\n",
       "      <td>209.723791</td>\n",
       "      <td>4.266686</td>\n",
       "      <td>4.594620</td>\n",
       "    </tr>\n",
       "    <tr>\n",
       "      <td>04_moment_negative_y</td>\n",
       "      <td>360.713517</td>\n",
       "      <td>320.674317</td>\n",
       "      <td>5.903327</td>\n",
       "      <td>6.068280</td>\n",
       "    </tr>\n",
       "    <tr>\n",
       "      <td>06_shear_y</td>\n",
       "      <td>34.465934</td>\n",
       "      <td>18.060150</td>\n",
       "      <td>48.505817</td>\n",
       "      <td>59.870539</td>\n",
       "    </tr>\n",
       "  </tbody>\n",
       "</table>\n",
       "</div>"
      ],
      "text/plain": [
       "                                   stiffness          k2  yield_load  \\\n",
       "specimen    load_type                                                  \n",
       "SP100_3W_CB 01_moment_negative_x  642.049694  577.844725    8.067387   \n",
       "            02_moment_negative_y  969.448706  872.503836   11.779268   \n",
       "            03_shear_y             62.534722   47.795288   77.000982   \n",
       "SP80_3W_CB  02_moment_negative_x  249.671180  209.723791    4.266686   \n",
       "            04_moment_negative_y  360.713517  320.674317    5.903327   \n",
       "            06_shear_y             34.465934   18.060150   48.505817   \n",
       "\n",
       "                                  ultimate_load  \n",
       "specimen    load_type                            \n",
       "SP100_3W_CB 01_moment_negative_x       8.764951  \n",
       "            02_moment_negative_y      11.882813  \n",
       "            03_shear_y                95.131258  \n",
       "SP80_3W_CB  02_moment_negative_x       4.594620  \n",
       "            04_moment_negative_y       6.068280  \n",
       "            06_shear_y                59.870539  "
      ]
     },
     "execution_count": 119,
     "metadata": {},
     "output_type": "execute_result"
    }
   ],
   "source": [
    "pd.concat([SP100_3W_CB_df, SP80_3W_CB_df])"
   ]
  },
  {
   "cell_type": "markdown",
   "metadata": {},
   "source": [
    "# Bolt"
   ]
  },
  {
   "cell_type": "markdown",
   "metadata": {
    "ExecuteTime": {
     "end_time": "2020-02-27T21:35:24.330638Z",
     "start_time": "2020-02-27T21:35:24.325660Z"
    }
   },
   "source": [
    "## SPBOLT-M12S"
   ]
  },
  {
   "cell_type": "code",
   "execution_count": 49,
   "metadata": {
    "ExecuteTime": {
     "end_time": "2020-02-28T04:04:05.074016Z",
     "start_time": "2020-02-28T04:04:05.048133Z"
    }
   },
   "outputs": [],
   "source": [
    "path = \"d:/OneDrive/WorkFile/FEM/Bolts/Results/\"\n",
    "job_names = get_jobnames(path)\n",
    "SPBOLT_M12S = get_df(job_names, path)"
   ]
  },
  {
   "cell_type": "code",
   "execution_count": 50,
   "metadata": {
    "ExecuteTime": {
     "end_time": "2020-02-28T04:04:05.391617Z",
     "start_time": "2020-02-28T04:04:05.359756Z"
    }
   },
   "outputs": [
    {
     "data": {
      "text/html": [
       "<div>\n",
       "<style scoped>\n",
       "    .dataframe tbody tr th:only-of-type {\n",
       "        vertical-align: middle;\n",
       "    }\n",
       "\n",
       "    .dataframe tbody tr th {\n",
       "        vertical-align: top;\n",
       "    }\n",
       "\n",
       "    .dataframe thead th {\n",
       "        text-align: right;\n",
       "    }\n",
       "</style>\n",
       "<table border=\"1\" class=\"dataframe\">\n",
       "  <thead>\n",
       "    <tr style=\"text-align: right;\">\n",
       "      <th></th>\n",
       "      <th>Model-5_round</th>\n",
       "      <th>Model-5_round.1</th>\n",
       "      <th>Model-5_round_18</th>\n",
       "      <th>Model-5_round_18.1</th>\n",
       "      <th>Model-5_round_18_no</th>\n",
       "      <th>Model-5_round_18_no.1</th>\n",
       "    </tr>\n",
       "  </thead>\n",
       "  <tbody>\n",
       "    <tr>\n",
       "      <td>count</td>\n",
       "      <td>74.000000</td>\n",
       "      <td>74.000000</td>\n",
       "      <td>66.000000</td>\n",
       "      <td>66.000000</td>\n",
       "      <td>44.000000</td>\n",
       "      <td>44.000000</td>\n",
       "    </tr>\n",
       "    <tr>\n",
       "      <td>unique</td>\n",
       "      <td>74.000000</td>\n",
       "      <td>70.000000</td>\n",
       "      <td>66.000000</td>\n",
       "      <td>66.000000</td>\n",
       "      <td>44.000000</td>\n",
       "      <td>44.000000</td>\n",
       "    </tr>\n",
       "    <tr>\n",
       "      <td>top</td>\n",
       "      <td>0.875737</td>\n",
       "      <td>37.269848</td>\n",
       "      <td>0.873832</td>\n",
       "      <td>19.233865</td>\n",
       "      <td>1.516125</td>\n",
       "      <td>15.171866</td>\n",
       "    </tr>\n",
       "    <tr>\n",
       "      <td>freq</td>\n",
       "      <td>1.000000</td>\n",
       "      <td>4.000000</td>\n",
       "      <td>1.000000</td>\n",
       "      <td>1.000000</td>\n",
       "      <td>1.000000</td>\n",
       "      <td>1.000000</td>\n",
       "    </tr>\n",
       "  </tbody>\n",
       "</table>\n",
       "</div>"
      ],
      "text/plain": [
       "        Model-5_round  Model-5_round.1  Model-5_round_18  Model-5_round_18.1  \\\n",
       "count       74.000000        74.000000         66.000000           66.000000   \n",
       "unique      74.000000        70.000000         66.000000           66.000000   \n",
       "top          0.875737        37.269848          0.873832           19.233865   \n",
       "freq         1.000000         4.000000          1.000000            1.000000   \n",
       "\n",
       "        Model-5_round_18_no  Model-5_round_18_no.1  \n",
       "count             44.000000              44.000000  \n",
       "unique            44.000000              44.000000  \n",
       "top                1.516125              15.171866  \n",
       "freq               1.000000               1.000000  "
      ]
     },
     "execution_count": 50,
     "metadata": {},
     "output_type": "execute_result"
    }
   ],
   "source": [
    "SPBOLT_M12S.describe()"
   ]
  },
  {
   "cell_type": "code",
   "execution_count": 53,
   "metadata": {
    "ExecuteTime": {
     "end_time": "2020-02-28T04:25:29.505265Z",
     "start_time": "2020-02-28T04:25:28.791800Z"
    },
    "scrolled": false
   },
   "outputs": [
    {
     "data": {
      "image/png": "[encoded data removed]",
      "text/plain": [
       "<Figure size 720x432 with 1 Axes>"
      ]
     },
     "metadata": {
      "needs_background": "light"
     },
     "output_type": "display_data"
    }
   ],
   "source": [
    "plot_curves(SPBOLT_M12S, job_names, [0,1,2])"
   ]
  },
  {
   "cell_type": "code",
   "execution_count": null,
   "metadata": {},
   "outputs": [],
   "source": []
  }
 ],
 "metadata": {
  "hide_input": false,
  "kernelspec": {
   "display_name": "Python 3",
   "language": "python",
   "name": "python3"
  },
  "language_info": {
   "codemirror_mode": {
    "name": "ipython",
    "version": 3
   },
   "file_extension": ".py",
   "mimetype": "text/x-python",
   "name": "python",
   "nbconvert_exporter": "python",
   "pygments_lexer": "ipython3",
   "version": "3.7.4"
  },
  "toc": {
   "base_numbering": 1,
   "nav_menu": {},
   "number_sections": true,
   "sideBar": true,
   "skip_h1_title": false,
   "title_cell": "Table of Contents",
   "title_sidebar": "Contents",
   "toc_cell": false,
   "toc_position": {
    "height": "calc(100% - 180px)",
    "left": "10px",
    "top": "150px",
    "width": "384px"
   },
   "toc_section_display": true,
   "toc_window_display": true
  },
  "varInspector": {
   "cols": {
    "lenName": 16,
    "lenType": 16,
    "lenVar": 40
   },
   "kernels_config": {
    "python": {
     "delete_cmd_postfix": "",
     "delete_cmd_prefix": "del ",
     "library": "var_list.py",
     "varRefreshCmd": "print(var_dic_list())"
    },
    "r": {
     "delete_cmd_postfix": ") ",
     "delete_cmd_prefix": "rm(",
     "library": "var_list.r",
     "varRefreshCmd": "cat(var_dic_list()) "
    }
   },
   "types_to_exclude": [
    "module",
    "function",
    "builtin_function_or_method",
    "instance",
    "_Feature"
   ],
   "window_display": false
  }
 },
 "nbformat": 4,
 "nbformat_minor": 2
}
